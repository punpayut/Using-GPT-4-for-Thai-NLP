{
  "nbformat": 4,
  "nbformat_minor": 0,
  "metadata": {
    "colab": {
      "provenance": [],
      "collapsed_sections": [
        "ReVEZwWE3TeI",
        "_dG6saSzwFt8"
      ]
    },
    "kernelspec": {
      "name": "python3",
      "display_name": "Python 3"
    },
    "language_info": {
      "name": "python"
    }
  },
  "cells": [
    {
      "cell_type": "markdown",
      "source": [
        "## Import, install"
      ],
      "metadata": {
        "id": "ReVEZwWE3TeI"
      }
    },
    {
      "cell_type": "code",
      "execution_count": null,
      "metadata": {
        "id": "CuiSYbQttd-x"
      },
      "outputs": [],
      "source": [
        "!pip install openai"
      ]
    },
    {
      "cell_type": "code",
      "source": [
        "import os\n",
        "from json import loads\n",
        "from functools import partial\n",
        "from IPython.display import Markdown\n",
        "from google.colab import userdata\n",
        "from openai import OpenAI"
      ],
      "metadata": {
        "id": "N_GLSmNJtnVr"
      },
      "execution_count": null,
      "outputs": []
    },
    {
      "cell_type": "code",
      "source": [
        "# set key to env\n",
        "os.environ['OPENAI_API_KEY'] = userdata.get('OPENAI_API_KEY')"
      ],
      "metadata": {
        "id": "BquZyd6ItpM2"
      },
      "execution_count": null,
      "outputs": []
    },
    {
      "cell_type": "code",
      "source": [
        "client = OpenAI()"
      ],
      "metadata": {
        "id": "nl_ASyLKtrO3"
      },
      "execution_count": null,
      "outputs": []
    },
    {
      "cell_type": "markdown",
      "source": [
        "## Test basic"
      ],
      "metadata": {
        "id": "_dG6saSzwFt8"
      }
    },
    {
      "cell_type": "code",
      "source": [
        "completion = client.chat.completions.create(\n",
        "  model=\"gpt-4-turbo-preview\",\n",
        "  messages=[\n",
        "    {\"role\": \"system\", \"content\": \"Summarize user's content\"},\n",
        "    {\"role\": \"user\", \"content\": \"ประเทศไทยรวมเลือดเนื้อชาติเชื้อไทย เป็นประชารัฐ ไผทของไทยทุกส่วน อยู่ดำรงคงไว้ได้ทั้งมวล ด้วยไทยล้วนหมาย รักสามัคคี ไทยนี้รักสงบ แต่ถึงรบไม่ขลาด เอกราชจะไม่ให้ใครข่มขี่ สละเลือดทุกหยาดเป็นชาติพลี เถลิงประเทศชาติไทยทวี มีชัย ชโย\"}\n",
        "  ]\n",
        ")\n",
        "print(completion.choices[0].message.content)"
      ],
      "metadata": {
        "colab": {
          "base_uri": "https://localhost:8080/"
        },
        "id": "vTxbtkWrtvj7",
        "outputId": "073355be-570c-472a-baae-7786bf7d4b2e"
      },
      "execution_count": null,
      "outputs": [
        {
          "output_type": "stream",
          "name": "stdout",
          "text": [
            "เนื้อหาดังกล่าวเป็นการสื่อถึงความมีอัตลักษณ์และคุณค่าของชาติไทย ให้คำมั่นสัญญาว่าชาวไทยจะรักษาอธิปไตย ความเป็นชาติที่ไม่ยอมให้ผู้ใดมาข่มขู่หรือกดดัน พร้อมที่จะปกป้องประเทศด้วยความสามัคคีและความรักสงบ แต่ก็พร้อมจะป้องกันไม่ให้ถูกล่วงละเมิดเช่นกัน ข้อความนี้ยังแสดงถึงความกล้าหาญและความพร้อมที่จะเสียสละเพื่อปกป้องอธิปไตยของชาติ โดยมีจุดยืนที่ชัดเจนในการทำทุกอย่างเพื่อให้ประเทศไทยเจริญรุ่งเรืองและมีอิสรภาพ.\n"
          ]
        }
      ]
    },
    {
      "cell_type": "code",
      "source": [
        "completion = client.chat.completions.create(\n",
        "  model=\"gpt-4-turbo-preview\",\n",
        "  messages=[\n",
        "    {\"role\": \"system\", \"content\": \"Segment into words\"},\n",
        "    {\"role\": \"user\", \"content\": \"ประเทศไทยรวมเลือดเนื้อชาติเชื้อไทย เป็นประชารัฐ ไผทของไทยทุกส่วน อยู่ดำรงคงไว้ได้ทั้งมวล ด้วยไทยล้วนหมาย รักสามัคคี ไทยนี้รักสงบ แต่ถึงรบไม่ขลาด เอกราชจะไม่ให้ใครข่มขี่ สละเลือดทุกหยาดเป็นชาติพลี เถลิงประเทศชาติไทยทวี มีชัย ชโย\"}\n",
        "  ]\n",
        ")\n",
        "print(completion.choices[0].message.content)"
      ],
      "metadata": {
        "colab": {
          "base_uri": "https://localhost:8080/"
        },
        "id": "y-mZU576wlyq",
        "outputId": "bf0b7ce7-287b-445c-8489-1fb8e63b60ec"
      },
      "execution_count": null,
      "outputs": [
        {
          "output_type": "stream",
          "name": "stdout",
          "text": [
            "ประเทศ ไทย รวม เลือด เนื้อ ชาติ เชื้อ ไทย เป็น ประชา รัฐ ไผ ท ของ ไทย ทุก ส่วน อยู่ ดำรง คง ไว้ ได้ ทั้ง มวล ด้วย ไทย ล้วน หมาย รัก สามัคคี ไทย นี้ รัก สงบ แต่ ถึง รบ ไม่ ขลาด เอกราช จะ ไม่ ให้ ใคร ข่ม ขี่ สละ เลือด ทุก หยาด เป็น ชาติ พลี เถลิง ประเทศ ชาติ ไทย ทวี มี ชัย ชโย\n"
          ]
        }
      ]
    },
    {
      "cell_type": "markdown",
      "source": [
        "## GPT4"
      ],
      "metadata": {
        "id": "HmtgK2CR3RFH"
      }
    },
    {
      "cell_type": "code",
      "source": [
        "# ทำ function กลางๆ ไว้ใช้\n",
        "def gpt4(prompt, content, json=True):\n",
        "  if json:\n",
        "    fmt = dict(response_format={\"type\": \"json_object\"})\n",
        "  else:\n",
        "    fmt = {}\n",
        "  # call API\n",
        "  completion = client.chat.completions.create(\n",
        "    model=\"gpt-4-turbo-preview\",\n",
        "    messages=[\n",
        "      {\"role\": \"system\", \"content\": prompt},\n",
        "      {\"role\": \"user\", \"content\": content}\n",
        "    ],\n",
        "    **fmt\n",
        "  )\n",
        "  output = completion.choices[0].message.content\n",
        "  if json:\n",
        "    output = loads(output)\n",
        "  return output"
      ],
      "metadata": {
        "id": "cU78SY6hxC4J"
      },
      "execution_count": null,
      "outputs": []
    },
    {
      "cell_type": "code",
      "source": [
        "gpt4(\"Segment into words (json)\", \"สวัสดีครับคุณครู\")"
      ],
      "metadata": {
        "colab": {
          "base_uri": "https://localhost:8080/"
        },
        "id": "O2xVuz4bxWjo",
        "outputId": "09668df4-bc25-4f35-8809-39b0fbdc72d0"
      },
      "execution_count": null,
      "outputs": [
        {
          "output_type": "execute_result",
          "data": {
            "text/plain": [
              "{'words': ['สวัสดี', 'ครับ', 'คุณ', 'ครู']}"
            ]
          },
          "metadata": {},
          "execution_count": 79
        }
      ]
    },
    {
      "cell_type": "markdown",
      "source": [
        "## เรียก Function"
      ],
      "metadata": {
        "id": "gyDgKBCv3Nis"
      }
    },
    {
      "cell_type": "code",
      "source": [
        "segment = partial(gpt4, \"Segment into words (json)\")"
      ],
      "metadata": {
        "id": "LIreCoTwyeOW"
      },
      "execution_count": null,
      "outputs": []
    },
    {
      "cell_type": "code",
      "source": [
        "segment('สวัสดีครับคุณครู')"
      ],
      "metadata": {
        "colab": {
          "base_uri": "https://localhost:8080/"
        },
        "id": "-GpzaE8eB66b",
        "outputId": "18ecde81-b2e8-4e47-adf9-a7d75239a48b"
      },
      "execution_count": null,
      "outputs": [
        {
          "output_type": "execute_result",
          "data": {
            "text/plain": [
              "{'words': ['สวัสดี', 'ครับ', 'คุณ', 'ครู']}"
            ]
          },
          "metadata": {},
          "execution_count": 80
        }
      ]
    },
    {
      "cell_type": "code",
      "source": [
        "segment('สวัสดีครับคุณครู')['words']"
      ],
      "metadata": {
        "colab": {
          "base_uri": "https://localhost:8080/"
        },
        "id": "s0ZDdEOfzaYd",
        "outputId": "867a018d-b0a9-43c8-f3f9-77a92ea33a82"
      },
      "execution_count": null,
      "outputs": [
        {
          "output_type": "execute_result",
          "data": {
            "text/plain": [
              "['สวัสดี', 'ครับ', 'คุณ', 'ครู']"
            ]
          },
          "metadata": {},
          "execution_count": 73
        }
      ]
    },
    {
      "cell_type": "code",
      "source": [
        "segment('เขานั่งตากลมเย็นๆ')"
      ],
      "metadata": {
        "colab": {
          "base_uri": "https://localhost:8080/"
        },
        "id": "h_YNBEvo7f8Q",
        "outputId": "ecda17ff-7987-4377-99c8-f401bb0f50f0"
      },
      "execution_count": null,
      "outputs": [
        {
          "output_type": "execute_result",
          "data": {
            "text/plain": [
              "{'words': ['เขา', 'นั่ง', 'ตาก', 'ลม', 'เย็นๆ']}"
            ]
          },
          "metadata": {},
          "execution_count": 70
        }
      ]
    },
    {
      "cell_type": "code",
      "source": [
        "segment('เขานั่งตากลมมองเหม่อ')"
      ],
      "metadata": {
        "colab": {
          "base_uri": "https://localhost:8080/"
        },
        "id": "6KyueLjQ7k3d",
        "outputId": "9f115c0b-552b-437f-fa05-7d721f51dc42"
      },
      "execution_count": null,
      "outputs": [
        {
          "output_type": "execute_result",
          "data": {
            "text/plain": [
              "{'words': ['เขา', 'นั่ง', 'ตากลม', 'มอง', 'เหม่อ']}"
            ]
          },
          "metadata": {},
          "execution_count": 69
        }
      ]
    },
    {
      "cell_type": "code",
      "source": [
        "summarize = partial(gpt4, \"Summarize\", json=False)"
      ],
      "metadata": {
        "id": "mArsUL32zcnf"
      },
      "execution_count": null,
      "outputs": []
    },
    {
      "cell_type": "code",
      "source": [
        "summarize(\"สวัสดี สวัสดี สวัสดี สวัสดี สวัสดี สวัสดี สวัสดี สวัสดี สวัสดี\")"
      ],
      "metadata": {
        "colab": {
          "base_uri": "https://localhost:8080/",
          "height": 35
        },
        "id": "R4lk4rAzCSb1",
        "outputId": "04bd1c20-7c7e-4060-f81a-bfe2dd3c3ab4"
      },
      "execution_count": null,
      "outputs": [
        {
          "output_type": "execute_result",
          "data": {
            "text/plain": [
              "'สวัสดี'"
            ],
            "application/vnd.google.colaboratory.intrinsic+json": {
              "type": "string"
            }
          },
          "metadata": {},
          "execution_count": 82
        }
      ]
    },
    {
      "cell_type": "code",
      "source": [
        "summarize(\"สวัสดี สวัสดี สวัสดี สวัสดี สวัสดี สวัสดี สวัสดี สวัสดี สวัสดี\")"
      ],
      "metadata": {
        "colab": {
          "base_uri": "https://localhost:8080/",
          "height": 35
        },
        "id": "zjFUMbS5CXb-",
        "outputId": "dfad5b16-91f2-426e-ed5a-09864b43dd1a"
      },
      "execution_count": null,
      "outputs": [
        {
          "output_type": "execute_result",
          "data": {
            "text/plain": [
              "'สวัสดีถึง 9 ครั้ง'"
            ],
            "application/vnd.google.colaboratory.intrinsic+json": {
              "type": "string"
            }
          },
          "metadata": {},
          "execution_count": 83
        }
      ]
    },
    {
      "cell_type": "code",
      "source": [
        "ner = partial(gpt4, \"Extract NER (json)\")"
      ],
      "metadata": {
        "id": "mTZAcjjp1EJR"
      },
      "execution_count": null,
      "outputs": []
    },
    {
      "cell_type": "code",
      "source": [
        "ner(\"สวัสดีครับ ผมชื่อ กรกฎ เชาวะวณิช ผมอยู่จังหวัดนนทบุรี ประเทศไทย\")"
      ],
      "metadata": {
        "colab": {
          "base_uri": "https://localhost:8080/"
        },
        "id": "0EbBR2Ea2aiX",
        "outputId": "71ab858c-7db7-4718-d883-e346e5225e28"
      },
      "execution_count": null,
      "outputs": [
        {
          "output_type": "execute_result",
          "data": {
            "text/plain": [
              "{'entities': [{'text': 'กรกฎ เชาวะวณิช', 'type': 'Person'},\n",
              "  {'text': 'นนทบุรี', 'type': 'Location'},\n",
              "  {'text': 'ประเทศไทย', 'type': 'Location'}]}"
            ]
          },
          "metadata": {},
          "execution_count": 41
        }
      ]
    },
    {
      "cell_type": "code",
      "source": [
        "sentiment = partial(gpt4, \"Find sentiment (json)\")"
      ],
      "metadata": {
        "id": "f5Mwd2lW2h7y"
      },
      "execution_count": null,
      "outputs": []
    },
    {
      "cell_type": "code",
      "source": [
        "sentiment('เมพขิงๆ เลย')"
      ],
      "metadata": {
        "colab": {
          "base_uri": "https://localhost:8080/"
        },
        "id": "xuiuypBu2wkF",
        "outputId": "f448d5ae-c14d-479c-e467-c3e56c69431e"
      },
      "execution_count": null,
      "outputs": [
        {
          "output_type": "execute_result",
          "data": {
            "text/plain": [
              "{'sentiment': 'positive'}"
            ]
          },
          "metadata": {},
          "execution_count": 45
        }
      ]
    },
    {
      "cell_type": "code",
      "source": [
        "sentiment('โคตรกากเลย')"
      ],
      "metadata": {
        "colab": {
          "base_uri": "https://localhost:8080/"
        },
        "id": "V5alVudW22aa",
        "outputId": "716f3b2f-66cf-4a1f-e46d-ee6476280da5"
      },
      "execution_count": null,
      "outputs": [
        {
          "output_type": "execute_result",
          "data": {
            "text/plain": [
              "{'text': 'โคตรกากเลย', 'sentiment': 'negative'}"
            ]
          },
          "metadata": {},
          "execution_count": 46
        }
      ]
    },
    {
      "cell_type": "code",
      "source": [
        "tothai = partial(gpt4, \"Translate to Thai\", json=False)"
      ],
      "metadata": {
        "id": "1ytrErXO3DvT"
      },
      "execution_count": null,
      "outputs": []
    },
    {
      "cell_type": "code",
      "source": [
        "tothai('Happy Birthday to you')"
      ],
      "metadata": {
        "colab": {
          "base_uri": "https://localhost:8080/",
          "height": 35
        },
        "id": "0BYcNTDn4FTB",
        "outputId": "94df915f-bc18-43bb-adcf-a42984422c11"
      },
      "execution_count": null,
      "outputs": [
        {
          "output_type": "execute_result",
          "data": {
            "text/plain": [
              "'สุขสันต์วันเกิดนะ'"
            ],
            "application/vnd.google.colaboratory.intrinsic+json": {
              "type": "string"
            }
          },
          "metadata": {},
          "execution_count": 48
        }
      ]
    },
    {
      "cell_type": "code",
      "source": [
        "sentseg = partial(gpt4, \"Segement into sentences (json)\")"
      ],
      "metadata": {
        "id": "VTg3H4NY4ICg"
      },
      "execution_count": null,
      "outputs": []
    },
    {
      "cell_type": "code",
      "source": [
        "sentseg(\"สวัสดีครับ ผมชื่อ กรกฎ เชาวะวณิช ผมอยู่จังหวัดนนทบุรี ประเทศไทย \\\n",
        "วันนี้ผมอยากมาเล่าเรื่องการใช้ gpt-4 สำหรับ NLP ภาษาไทย\")"
      ],
      "metadata": {
        "colab": {
          "base_uri": "https://localhost:8080/"
        },
        "id": "95vve4yC4W57",
        "outputId": "e9d55e20-80f0-4dda-9986-ec5867bf1f52"
      },
      "execution_count": null,
      "outputs": [
        {
          "output_type": "execute_result",
          "data": {
            "text/plain": [
              "{'sentences': ['สวัสดีครับ',\n",
              "  'ผมชื่อ กรกฎ เชาวะวณิช',\n",
              "  'ผมอยู่จังหวัดนนทบุรี ประเทศไทย',\n",
              "  'วันนี้ผมอยากมาเล่าเรื่องการใช้ gpt-4 สำหรับ NLP ภาษาไทย']}"
            ]
          },
          "metadata": {},
          "execution_count": 84
        }
      ]
    },
    {
      "cell_type": "code",
      "source": [
        "pronounce = partial(gpt4, \"Get the pronunciation of the given word in json\")"
      ],
      "metadata": {
        "id": "WeQ2LhR_4j9c"
      },
      "execution_count": null,
      "outputs": []
    },
    {
      "cell_type": "code",
      "source": [
        "pronounce(\"Hello\")"
      ],
      "metadata": {
        "colab": {
          "base_uri": "https://localhost:8080/"
        },
        "id": "Xh_AWuKU42lv",
        "outputId": "98b6789d-b0d1-4869-d435-e37b457511da"
      },
      "execution_count": null,
      "outputs": [
        {
          "output_type": "execute_result",
          "data": {
            "text/plain": [
              "{'word': 'hello', 'phonetic': '/həˈloʊ/', 'phoneticNotation': 'IPA'}"
            ]
          },
          "metadata": {},
          "execution_count": 59
        }
      ]
    },
    {
      "cell_type": "code",
      "source": [
        "pronounce(\"สวัสดี\")"
      ],
      "metadata": {
        "colab": {
          "base_uri": "https://localhost:8080/"
        },
        "id": "3LUwRBfB43rH",
        "outputId": "49bd0d6c-ea59-4dd2-c0ac-d5b23231627f"
      },
      "execution_count": null,
      "outputs": [
        {
          "output_type": "execute_result",
          "data": {
            "text/plain": [
              "{'word': 'สวัสดี', 'pronunciation': 'sa-wat-dee'}"
            ]
          },
          "metadata": {},
          "execution_count": 60
        }
      ]
    },
    {
      "cell_type": "code",
      "source": [
        "findpos = partial(gpt4, \"Find POS of each word, return json\")"
      ],
      "metadata": {
        "id": "XcbYebKT5DVf"
      },
      "execution_count": null,
      "outputs": []
    },
    {
      "cell_type": "code",
      "source": [
        "findpos(\"สวัสดีครับ ผมกรกฎ ครับ ผมชอบ AI\")"
      ],
      "metadata": {
        "colab": {
          "base_uri": "https://localhost:8080/"
        },
        "id": "FcIwfYDN5Q11",
        "outputId": "c641d54b-da9e-477b-8f5a-632f98c0b5a2"
      },
      "execution_count": null,
      "outputs": [
        {
          "output_type": "execute_result",
          "data": {
            "text/plain": [
              "{'สวัสดี': 'V',\n",
              " 'ครับ': 'PART',\n",
              " 'ผม': 'PRON',\n",
              " 'กรกฎ': 'N',\n",
              " 'ชอบ': 'V',\n",
              " 'AI': 'N'}"
            ]
          },
          "metadata": {},
          "execution_count": 63
        }
      ]
    },
    {
      "cell_type": "code",
      "source": [
        "tonum = partial(gpt4, \"Convert the words to a number, return json\")"
      ],
      "metadata": {
        "id": "8P5wEn8Y5VcF"
      },
      "execution_count": null,
      "outputs": []
    },
    {
      "cell_type": "code",
      "source": [
        "tonum(\"สองพันห้าร้อยหกสิบเจ็ด\")"
      ],
      "metadata": {
        "colab": {
          "base_uri": "https://localhost:8080/"
        },
        "id": "fTdLzy5Q5qq2",
        "outputId": "59d20358-fad2-4dd6-aa84-0d3db7d8c7b9"
      },
      "execution_count": null,
      "outputs": [
        {
          "output_type": "execute_result",
          "data": {
            "text/plain": [
              "{'number': 2567}"
            ]
          },
          "metadata": {},
          "execution_count": 78
        }
      ]
    },
    {
      "cell_type": "code",
      "source": [],
      "metadata": {
        "id": "h9XIkI8C5s57"
      },
      "execution_count": null,
      "outputs": []
    }
  ]
}